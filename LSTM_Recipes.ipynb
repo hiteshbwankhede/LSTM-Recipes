{
  "nbformat": 4,
  "nbformat_minor": 0,
  "metadata": {
    "colab": {
      "provenance": [],
      "mount_file_id": "14IRO3at-9mbsWPLw-bq8oB166sjWONR1",
      "authorship_tag": "ABX9TyMY26GKgalDPt12qYDHlAhm",
      "include_colab_link": true
    },
    "kernelspec": {
      "name": "python3",
      "display_name": "Python 3"
    },
    "language_info": {
      "name": "python"
    }
  },
  "cells": [
    {
      "cell_type": "markdown",
      "metadata": {
        "id": "view-in-github",
        "colab_type": "text"
      },
      "source": [
        "<a href=\"https://colab.research.google.com/github/hiteshbwankhede/LSTM-Recipes/blob/main/LSTM_Recipes.ipynb\" target=\"_parent\"><img src=\"https://colab.research.google.com/assets/colab-badge.svg\" alt=\"Open In Colab\"/></a>"
      ]
    },
    {
      "cell_type": "code",
      "source": [
        "from google.colab import drive\n",
        "drive.mount('/content/drive')"
      ],
      "metadata": {
        "colab": {
          "base_uri": "https://localhost:8080/"
        },
        "id": "EBKhSN-1kWzM",
        "outputId": "b3b132ad-747e-4c89-8d33-d964a47647e5"
      },
      "execution_count": null,
      "outputs": [
        {
          "output_type": "stream",
          "name": "stdout",
          "text": [
            "Drive already mounted at /content/drive; to attempt to forcibly remount, call drive.mount(\"/content/drive\", force_remount=True).\n"
          ]
        }
      ]
    },
    {
      "cell_type": "code",
      "source": [
        "import json\n",
        "import pandas as pd"
      ],
      "metadata": {
        "id": "60YsBVLZnEZo"
      },
      "execution_count": null,
      "outputs": []
    },
    {
      "cell_type": "markdown",
      "source": [
        "# **1. Load the Data**"
      ],
      "metadata": {
        "id": "UhOeQjxbryJL"
      }
    },
    {
      "cell_type": "code",
      "source": [
        "with open('/content/drive/MyDrive/Colab Datasets/LSTM Recipes/full_format_recipes.json') as json_data:\n",
        "  recipe_data = json.load(json_data)\n",
        "# Recipe data will be list of json\n",
        "# each json will have ingredients title etc\n",
        "recipe_data[0]"
      ],
      "metadata": {
        "colab": {
          "base_uri": "https://localhost:8080/"
        },
        "id": "-djK5unFkW-I",
        "outputId": "c6ec7869-0b14-46bc-c97c-4175d6455961"
      },
      "execution_count": null,
      "outputs": [
        {
          "output_type": "execute_result",
          "data": {
            "text/plain": [
              "{'directions': ['1. Place the stock, lentils, celery, carrot, thyme, and salt in a medium saucepan and bring to a boil. Reduce heat to low and simmer until the lentils are tender, about 30 minutes, depending on the lentils. (If they begin to dry out, add water as needed.) Remove and discard the thyme. Drain and transfer the mixture to a bowl; let cool.',\n",
              "  '2. Fold in the tomato, apple, lemon juice, and olive oil. Season with the pepper.',\n",
              "  '3. To assemble a wrap, place 1 lavash sheet on a clean work surface. Spread some of the lentil mixture on the end nearest you, leaving a 1-inch border. Top with several slices of turkey, then some of the lettuce. Roll up the lavash, slice crosswise, and serve. If using tortillas, spread the lentils in the center, top with the turkey and lettuce, and fold up the bottom, left side, and right side before rolling away from you.'],\n",
              " 'fat': 7.0,\n",
              " 'date': '2006-09-01T04:00:00.000Z',\n",
              " 'categories': ['Sandwich',\n",
              "  'Bean',\n",
              "  'Fruit',\n",
              "  'Tomato',\n",
              "  'turkey',\n",
              "  'Vegetable',\n",
              "  'Kid-Friendly',\n",
              "  'Apple',\n",
              "  'Lentil',\n",
              "  'Lettuce',\n",
              "  'Cookie'],\n",
              " 'calories': 426.0,\n",
              " 'desc': None,\n",
              " 'protein': 30.0,\n",
              " 'rating': 2.5,\n",
              " 'title': 'Lentil, Apple, and Turkey Wrap ',\n",
              " 'ingredients': ['4 cups low-sodium vegetable or chicken stock',\n",
              "  '1 cup dried brown lentils',\n",
              "  '1/2 cup dried French green lentils',\n",
              "  '2 stalks celery, chopped',\n",
              "  '1 large carrot, peeled and chopped',\n",
              "  '1 sprig fresh thyme',\n",
              "  '1 teaspoon kosher salt',\n",
              "  '1 medium tomato, cored, seeded, and diced',\n",
              "  '1 small Fuji apple, cored and diced',\n",
              "  '1 tablespoon freshly squeezed lemon juice',\n",
              "  '2 teaspoons extra-virgin olive oil',\n",
              "  'Freshly ground black pepper to taste',\n",
              "  '3 sheets whole-wheat lavash, cut in half crosswise, or 6 (12-inch) flour tortillas',\n",
              "  '3/4 pound turkey breast, thinly sliced',\n",
              "  '1/2 head Bibb lettuce'],\n",
              " 'sodium': 559.0}"
            ]
          },
          "metadata": {},
          "execution_count": 55
        }
      ]
    },
    {
      "cell_type": "code",
      "source": [
        "filtered_data = ['Recipe for ' +x['title']+ ' | ' + ' '.join(x['directions']) for x in recipe_data if 'title' in x and\n",
        "                 x['title'] is not None and 'directions' in x and x['directions'] is not None]"
      ],
      "metadata": {
        "id": "g-mfYzclnPtX"
      },
      "execution_count": null,
      "outputs": []
    },
    {
      "cell_type": "code",
      "source": [
        "filtered_data[0]"
      ],
      "metadata": {
        "colab": {
          "base_uri": "https://localhost:8080/",
          "height": 105
        },
        "id": "NQea0KJRnPqb",
        "outputId": "885b110c-fbfc-4c52-b866-b2019e7301e2"
      },
      "execution_count": null,
      "outputs": [
        {
          "output_type": "execute_result",
          "data": {
            "text/plain": [
              "'Recipe for Lentil, Apple, and Turkey Wrap  | 1. Place the stock, lentils, celery, carrot, thyme, and salt in a medium saucepan and bring to a boil. Reduce heat to low and simmer until the lentils are tender, about 30 minutes, depending on the lentils. (If they begin to dry out, add water as needed.) Remove and discard the thyme. Drain and transfer the mixture to a bowl; let cool. 2. Fold in the tomato, apple, lemon juice, and olive oil. Season with the pepper. 3. To assemble a wrap, place 1 lavash sheet on a clean work surface. Spread some of the lentil mixture on the end nearest you, leaving a 1-inch border. Top with several slices of turkey, then some of the lettuce. Roll up the lavash, slice crosswise, and serve. If using tortillas, spread the lentils in the center, top with the turkey and lettuce, and fold up the bottom, left side, and right side before rolling away from you.'"
            ],
            "application/vnd.google.colaboratory.intrinsic+json": {
              "type": "string"
            }
          },
          "metadata": {},
          "execution_count": 57
        }
      ]
    },
    {
      "cell_type": "code",
      "source": [],
      "metadata": {
        "id": "siab208lnPnR"
      },
      "execution_count": null,
      "outputs": []
    },
    {
      "cell_type": "code",
      "source": [],
      "metadata": {
        "id": "WKryNN82nPik"
      },
      "execution_count": null,
      "outputs": []
    },
    {
      "cell_type": "code",
      "source": [],
      "metadata": {
        "id": "NYO50eBbnPWm"
      },
      "execution_count": null,
      "outputs": []
    },
    {
      "cell_type": "code",
      "source": [],
      "metadata": {
        "id": "Tt4MYeY_nPNI"
      },
      "execution_count": null,
      "outputs": []
    }
  ]
}